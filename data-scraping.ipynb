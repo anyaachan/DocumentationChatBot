{
 "cells": [
  {
   "cell_type": "code",
   "execution_count": 5,
   "metadata": {},
   "outputs": [],
   "source": [
    "from markdownify import markdownify as md\n",
    "from langchain_community.document_loaders import AsyncHtmlLoader\n",
    "import requests"
   ]
  },
  {
   "cell_type": "code",
   "execution_count": 14,
   "metadata": {},
   "outputs": [
    {
     "name": "stdout",
     "output_type": "stream",
     "text": [
      "**Yay** [GitHub](http://github.com)\n"
     ]
    }
   ],
   "source": [
    "base_url = \"https://platform.openai.com/docs/guides/\"\n",
    "md_dir = \"data\"\n",
    "headers = {'User-Agent': 'Mozilla/5.0 (Macintosh; Intel Mac OS X 10_15_7) AppleWebKit/537.36 (KHTML, like Gecko) Chrome/128.0.0.0 Safari/537.36'}\n",
    "document  = md('<b>Yay</b> <a href=\"http://github.com\">GitHub</a>')\n",
    "print(document)\n",
    "\n",
    "def save_md_from_html(link):\n",
    "    try: \n",
    "        html_content = requests.get(link, headers=headers)\n",
    "        if html_content.status_code != 200:\n",
    "            print(f\"Failed to download {link}. Status code: {html_content.status_code}\")\n",
    "        else: \n",
    "            return html_content\n",
    "        # with open(md_dir, \"w\") as f:\n",
    "        #     f.write(md(html_content))\n",
    "    except Exception as e:\n",
    "        print(e) "
   ]
  },
  {
   "cell_type": "code",
   "execution_count": 15,
   "metadata": {},
   "outputs": [
    {
     "name": "stdout",
     "output_type": "stream",
     "text": [
      "'str' object has no attribute 'items'\n"
     ]
    }
   ],
   "source": [
    "save_md_from_html(\"https://jobs.dou.ua/companies/kindgeek/?from=applications\")"
   ]
  }
 ],
 "metadata": {
  "kernelspec": {
   "display_name": ".venv",
   "language": "python",
   "name": "python3"
  },
  "language_info": {
   "codemirror_mode": {
    "name": "ipython",
    "version": 3
   },
   "file_extension": ".py",
   "mimetype": "text/x-python",
   "name": "python",
   "nbconvert_exporter": "python",
   "pygments_lexer": "ipython3",
   "version": "3.12.5"
  }
 },
 "nbformat": 4,
 "nbformat_minor": 2
}
